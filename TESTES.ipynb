{
 "cells": [
  {
   "cell_type": "code",
   "execution_count": 1,
   "metadata": {},
   "outputs": [],
   "source": [
    "import pandas as pd\n",
    "import basedosdados as bd\n",
    "import streamlit as st\n",
    "import matplotlib as plt\n",
    "import mplcyberpunk"
   ]
  },
  {
   "cell_type": "code",
   "execution_count": 2,
   "metadata": {},
   "outputs": [
    {
     "name": "stderr",
     "output_type": "stream",
     "text": [
      "Downloading: 100%|██████████| 8070/8070 [00:05<00:00, 1382.56rows/s]\n"
     ]
    },
    {
     "data": {
      "text/plain": [
       "(        ID  rodata        data   hora       mandante    visitante  \\\n",
       " 0        1       1   29/3/2003  16:00        Guarani        Vasco   \n",
       " 1        2       1   29/3/2003  16:00   Athletico-PR       Gremio   \n",
       " 2        3       1   30/3/2003  16:00       Flamengo     Coritiba   \n",
       " 3        4       1   30/3/2003  16:00          Goias     Paysandu   \n",
       " 4        5       1   30/3/2003  16:00  Internacional  Ponte Preta   \n",
       " ...    ...     ...         ...    ...            ...          ...   \n",
       " 8020  8021      38  13/11/2022  16:03         Cuiaba     Coritiba   \n",
       " 8021  8022      38  13/11/2022  16:03     Bragantino   Fluminense   \n",
       " 8022  8023      38  13/11/2022  16:03    Corinthians  Atletico-MG   \n",
       " 8023  8024      38  13/11/2022  16:03  Internacional    Palmeiras   \n",
       " 8024  8025      38  13/11/2022  16:03          Goias    Sao Paulo   \n",
       " \n",
       "      formacao_mandante formacao_visitante        tecnico_mandante  \\\n",
       " 0                  NaN                NaN                     NaN   \n",
       " 1                  NaN                NaN                     NaN   \n",
       " 2                  NaN                NaN                     NaN   \n",
       " 3                  NaN                NaN                     NaN   \n",
       " 4                  NaN                NaN                     NaN   \n",
       " ...                ...                ...                     ...   \n",
       " 8020           4-1-4-1            4-1-4-1  A. Cardoso de Oliveira   \n",
       " 8021           4-2-3-1            4-2-3-1    M. Nogueira Barbieri   \n",
       " 8022           4-1-4-1            4-2-3-1  F. J. Monteiro Almeida   \n",
       " 8023           4-2-3-1            4-2-3-1    L. Venker de Menezes   \n",
       " 8024           4-2-3-1          4-1-2-1-2      J. Ribeiro Ventura   \n",
       " \n",
       "         tecnico_visitante       vencedor                        arena  \\\n",
       " 0                     NaN        Guarani               Brinco de Ouro   \n",
       " 1                     NaN   Athletico-PR             Arena da Baixada   \n",
       " 2                     NaN              -                     Maracanã   \n",
       " 3                     NaN              -                Serra Dourada   \n",
       " 4                     NaN              -                    Beira Rio   \n",
       " ...                   ...            ...                          ...   \n",
       " 8020          A. Ferreira         Cuiaba               Arena Pantanal   \n",
       " 8021       F. Diniz Silva     Fluminense                      Nabizão   \n",
       " 8022            A. Stival    Atletico-MG            Neo Química Arena   \n",
       " 8023  A. Moreira Ferreira  Internacional  Estádio José Pinheiro Borda   \n",
       " 8024              R. Ceni      Sao Paulo          Estádio da Serrinha   \n",
       " \n",
       "       mandante_Placar  visitante_Placar mandante_Estado visitante_Estado  \n",
       " 0                   4                 2              SP               RJ  \n",
       " 1                   2                 0              PR               RS  \n",
       " 2                   1                 1              RJ               PR  \n",
       " 3                   2                 2              GO               PA  \n",
       " 4                   1                 1              RS               SP  \n",
       " ...               ...               ...             ...              ...  \n",
       " 8020                2                 1              MT               PR  \n",
       " 8021                0                 1              SP               RJ  \n",
       " 8022                0                 1              SP               MG  \n",
       " 8023                3                 0              RS               SP  \n",
       " 8024                0                 4              GO               SP  \n",
       " \n",
       " [8025 rows x 16 columns],)"
      ]
     },
     "execution_count": 2,
     "metadata": {},
     "output_type": "execute_result"
    }
   ],
   "source": [
    "df_data = bd.read_table(dataset_id='mundo_transfermarkt_competicoes',\n",
    "    table_id='brasileirao_serie_a',\n",
    "    billing_project_id=\"projfutebol\")\n",
    "\n",
    "df_brasFul = pd.read_csv('Arquivos\\campeonato-brasileiro-full.csv'),\n",
    "df_brasGols = pd.read_csv('Arquivos\\campeonato-brasileiro-gols.csv'),\n",
    "df_brasCards = pd.read_csv('Arquivos\\campeonato-brasileiro-cartoes.csv')\n"
   ]
  }
 ],
 "metadata": {
  "kernelspec": {
   "display_name": "Python 3",
   "language": "python",
   "name": "python3"
  },
  "language_info": {
   "codemirror_mode": {
    "name": "ipython",
    "version": 3
   },
   "file_extension": ".py",
   "mimetype": "text/x-python",
   "name": "python",
   "nbconvert_exporter": "python",
   "pygments_lexer": "ipython3",
   "version": "3.9.13"
  },
  "orig_nbformat": 4
 },
 "nbformat": 4,
 "nbformat_minor": 2
}
